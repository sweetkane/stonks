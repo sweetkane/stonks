{
 "cells": [
  {
   "cell_type": "code",
   "execution_count": 1,
   "metadata": {},
   "outputs": [],
   "source": [
    "from common.imports import *\n",
    "from common.util import *\n",
    "from common.const import *\n",
    "from data.dataloader import *\n",
    "from model.transformer import *\n",
    "from model.run_model import *"
   ]
  },
  {
   "cell_type": "code",
   "execution_count": 2,
   "metadata": {},
   "outputs": [
    {
     "name": "stdout",
     "output_type": "stream",
     "text": [
      "cuda\n"
     ]
    }
   ],
   "source": [
    "device = \"cuda\" if torch.cuda.is_available() else \"cpu\"\n",
    "print(device)\n",
    "torch.cuda.empty_cache()"
   ]
  },
  {
   "cell_type": "code",
   "execution_count": 3,
   "metadata": {},
   "outputs": [],
   "source": [
    "# RUN SETTINGS\n",
    "load_model = False\n",
    "save_model = True\n",
    "max_src_list = [1000]\n",
    "test_size = 20\n",
    "num_epochs = 1\n",
    "batch_size = 4\n",
    "num_workers = 0\n",
    "days_pred_list = [100]\n",
    "\n",
    "# OPTIM PARAMS\n",
    "lr = 0.1\n",
    "max_norm = 100"
   ]
  },
  {
   "cell_type": "code",
   "execution_count": 4,
   "metadata": {},
   "outputs": [
    {
     "name": "stderr",
     "output_type": "stream",
     "text": [
      "/home/kanesweet/anaconda3/envs/stonksEnv/lib/python3.11/site-packages/torch/nn/modules/transformer.py:218: UserWarning: enable_nested_tensor is True, but self.use_nested_tensor is False because num_head is odd\n",
      "  warnings.warn(f\"enable_nested_tensor is True, but self.use_nested_tensor is False because {why_not_sparsity_fast_path}\")\n"
     ]
    }
   ],
   "source": [
    "# OBJECTS\n",
    "\n",
    "## DATALOADER\n",
    "train_loader, test_loader = create_splits(\n",
    "    batch_size=batch_size,\n",
    "    test_size=test_size,\n",
    "    num_workers=num_workers\n",
    ")\n",
    "\n",
    "## MODEL\n",
    "model = stonks_transformer_model(\n",
    "    d_model=D_MODEL,\n",
    "    nhead=NUM_HEADS,\n",
    "    num_encoder_layers=NUM_ENCODER_LAYERS,\n",
    "    num_decoder_layers=NUM_DECODER_LAYERS,\n",
    "    dropout=DROPOUT\n",
    ").to(device)\n",
    "if load_model:\n",
    "    checkpoint = torch.load(\"best_model.pt\")\n",
    "    model.load_state_dict(checkpoint['state_dict'])\n",
    "\n",
    "## BATCH PROCESSOR\n",
    "batch_processor = BatchProcessor(-1)"
   ]
  },
  {
   "cell_type": "code",
   "execution_count": 5,
   "metadata": {},
   "outputs": [
    {
     "data": {
      "application/vnd.jupyter.widget-view+json": {
       "model_id": "adf8173093b0400b892b2636c023b4b8",
       "version_major": 2,
       "version_minor": 0
      },
      "text/plain": [
       "  0%|          | 0/1154 [00:00<?, ?it/s]"
      ]
     },
     "metadata": {},
     "output_type": "display_data"
    },
    {
     "name": "stdout",
     "output_type": "stream",
     "text": [
      "bad loss\n"
     ]
    },
    {
     "ename": "RuntimeError",
     "evalue": "CUDA error: an illegal memory access was encountered\nCUDA kernel errors might be asynchronously reported at some other API call, so the stacktrace below might be incorrect.\nFor debugging consider passing CUDA_LAUNCH_BLOCKING=1.\nCompile with `TORCH_USE_CUDA_DSA` to enable device-side assertions.\n",
     "output_type": "error",
     "traceback": [
      "\u001b[0;31m---------------------------------------------------------------------------\u001b[0m",
      "\u001b[0;31mRuntimeError\u001b[0m                              Traceback (most recent call last)",
      "Cell \u001b[0;32mIn[5], line 12\u001b[0m\n\u001b[1;32m      8\u001b[0m         \u001b[39mfor\u001b[39;00m days_pred \u001b[39min\u001b[39;00m days_pred_list:\n\u001b[1;32m      9\u001b[0m             \u001b[39mfor\u001b[39;00m _ \u001b[39min\u001b[39;00m \u001b[39mrange\u001b[39m(num_epochs):\n\u001b[1;32m     10\u001b[0m                 all_losses \u001b[39m=\u001b[39m np\u001b[39m.\u001b[39mconcatenate((\n\u001b[1;32m     11\u001b[0m                     all_losses,\n\u001b[0;32m---> 12\u001b[0m                     train_stonks_transformer(\n\u001b[1;32m     13\u001b[0m                         model, lr, max_norm, days_pred, train_loader, \n\u001b[1;32m     14\u001b[0m                         batch_processor, device, pbar\n\u001b[1;32m     15\u001b[0m                     )\n\u001b[1;32m     16\u001b[0m                 ))\n\u001b[1;32m     18\u001b[0m plot_loss(all_losses)\n\u001b[1;32m     19\u001b[0m \u001b[39mprint\u001b[39m(\u001b[39m\"\u001b[39m\u001b[39mAvg Loss:\u001b[39m\u001b[39m\"\u001b[39m, np\u001b[39m.\u001b[39mmean(all_losses))\n",
      "File \u001b[0;32m~/kanesweet/stonks.0.2/model/run_model.py:36\u001b[0m, in \u001b[0;36mtrain_stonks_transformer\u001b[0;34m(model, learning_rate, max_norm, days_pred, train_loader, batch_processor, device, pbar)\u001b[0m\n\u001b[1;32m     33\u001b[0m out \u001b[39m=\u001b[39m model(src\u001b[39m=\u001b[39msrc, src_key_padding_mask\u001b[39m=\u001b[39msrc_padding_mask, tgt\u001b[39m=\u001b[39mtgt, tgt_mask\u001b[39m=\u001b[39mtgt_mask)\n\u001b[1;32m     35\u001b[0m loss: torch\u001b[39m.\u001b[39mTensor \u001b[39m=\u001b[39m loss_fn(out, exp)\n\u001b[0;32m---> 36\u001b[0m \u001b[39mif\u001b[39;00m \u001b[39mnot\u001b[39;00m loss \u001b[39m<\u001b[39m \u001b[39mfloat\u001b[39m(\u001b[39m\"\u001b[39m\u001b[39minf\u001b[39m\u001b[39m\"\u001b[39m):\n\u001b[1;32m     37\u001b[0m     \u001b[39mprint\u001b[39m(\u001b[39m\"\u001b[39m\u001b[39mbad loss\u001b[39m\u001b[39m\"\u001b[39m)\n\u001b[1;32m     38\u001b[0m     \u001b[39mcontinue\u001b[39;00m\n",
      "\u001b[0;31mRuntimeError\u001b[0m: CUDA error: an illegal memory access was encountered\nCUDA kernel errors might be asynchronously reported at some other API call, so the stacktrace below might be incorrect.\nFor debugging consider passing CUDA_LAUNCH_BLOCKING=1.\nCompile with `TORCH_USE_CUDA_DSA` to enable device-side assertions.\n"
     ]
    }
   ],
   "source": [
    "# TRAIN\n",
    "\n",
    "total_iters = len(max_src_list) * len(days_pred_list) * num_epochs * len(train_loader)\n",
    "all_losses = np.empty((0,))\n",
    "with tqdm(total=total_iters) as pbar:\n",
    "    for max_src in max_src_list:\n",
    "        batch_processor.max_src_window = max_src\n",
    "        for days_pred in days_pred_list:\n",
    "            for _ in range(num_epochs):\n",
    "                all_losses = np.concatenate((\n",
    "                    all_losses,\n",
    "                    train_stonks_transformer(\n",
    "                        model, lr, max_norm, days_pred, train_loader, \n",
    "                        batch_processor, device, pbar\n",
    "                    )\n",
    "                ))\n",
    "\n",
    "plot_loss(all_losses)\n",
    "print(\"Avg Loss:\", np.mean(all_losses))\n",
    "\n",
    "# 5m per epoch"
   ]
  },
  {
   "cell_type": "code",
   "execution_count": null,
   "metadata": {},
   "outputs": [
    {
     "data": {
      "application/vnd.jupyter.widget-view+json": {
       "model_id": "a38f37a152fc4907b2f6d0f554e07984",
       "version_major": 2,
       "version_minor": 0
      },
      "text/plain": [
       "  0%|          | 0/577 [00:00<?, ?it/s]"
      ]
     },
     "metadata": {},
     "output_type": "display_data"
    },
    {
     "name": "stdout",
     "output_type": "stream",
     "text": [
      "Avg Loss: 3.1768592716608612\n"
     ]
    }
   ],
   "source": [
    "# TEST\n",
    "\n",
    "with tqdm(total=len(test_loader)) as pbar:\n",
    "    losses = test_stonks_transformer(\n",
    "        model, test_size, test_loader, batch_processor, device, pbar\n",
    "    )\n",
    "avg_test_loss = np.mean(losses)\n",
    "print(\"Avg Loss:\", avg_test_loss)"
   ]
  },
  {
   "cell_type": "code",
   "execution_count": null,
   "metadata": {},
   "outputs": [],
   "source": [
    "# SAVE\n",
    "\n",
    "checkpoint = torch.load(\"best_model.pt\")\n",
    "prev_best_avg_test_loss = checkpoint['avg_test_loss']\n",
    "\n",
    "# if save_model and avg_test_loss < prev_best_avg_test_loss:\n",
    "#     print(\"saving model\")\n",
    "#     print(\"prev best:\", prev_best_avg_test_loss)\n",
    "#     print(\"new best:\", avg_test_loss)\n",
    "torch.save(\n",
    "    {\n",
    "        'state_dict': model.state_dict(),\n",
    "        'avg_test_loss': avg_test_loss\n",
    "    }, \n",
    "    f=\"best_model.pt\"\n",
    ")"
   ]
  }
 ],
 "metadata": {
  "kernelspec": {
   "display_name": "stonksEnv",
   "language": "python",
   "name": "python3"
  },
  "language_info": {
   "codemirror_mode": {
    "name": "ipython",
    "version": 3
   },
   "file_extension": ".py",
   "mimetype": "text/x-python",
   "name": "python",
   "nbconvert_exporter": "python",
   "pygments_lexer": "ipython3",
   "version": "3.11.4"
  },
  "orig_nbformat": 4
 },
 "nbformat": 4,
 "nbformat_minor": 2
}
