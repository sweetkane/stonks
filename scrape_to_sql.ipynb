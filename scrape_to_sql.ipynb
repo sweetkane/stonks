{
 "cells": [
  {
   "cell_type": "code",
   "execution_count": null,
   "metadata": {},
   "outputs": [],
   "source": [
    "from common.imports import *\n",
    "from common.util import *"
   ]
  },
  {
   "cell_type": "code",
   "execution_count": null,
   "metadata": {},
   "outputs": [],
   "source": [
    "end = datetime.date.today()\n",
    "db = DB()"
   ]
  },
  {
   "cell_type": "code",
   "execution_count": null,
   "metadata": {},
   "outputs": [],
   "source": [
    "# Load tickers\n",
    "\n",
    "tickers_idx = pd.read_csv(\"data/csv/tickers_idx.csv\") #7243\n",
    "total_rows = 0\n",
    "\n",
    "for i, row in tqdm(tickers_idx.iterrows()):\n",
    "    symbol = row[\"ticker\"]\n",
    "\n",
    "    latest_date = get_latest_date(db, symbol)\n",
    "\n",
    "    ticker = yf.Ticker(symbol)\n",
    "    history = ticker.history(start=latest_date, end=end)\n",
    "    history = history.drop(\"Capital Gains\", axis=1) if \"Capital Gains\" in history.columns else history\n",
    "    history[\"Ticker\"] = symbol\n",
    "    history.to_sql(\"history\", con=db.connection, if_exists=\"append\", index=True)\n",
    "    \n",
    "    total_rows += history.shape[0]\n",
    "    time.sleep(1)\n",
    "    \n",
    "print(\"Done...,\" \"Total Rows Collected: \", total_rows)"
   ]
  }
 ],
 "metadata": {
  "language_info": {
   "name": "python"
  },
  "orig_nbformat": 4
 },
 "nbformat": 4,
 "nbformat_minor": 2
}
