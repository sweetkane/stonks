{
 "cells": [
  {
   "cell_type": "code",
   "execution_count": 1,
   "metadata": {},
   "outputs": [],
   "source": [
    "from common.common_imports import *\n",
    "from common.util import *\n",
    "from data.dataloader import *\n",
    "from transformer import *"
   ]
  },
  {
   "cell_type": "code",
   "execution_count": 2,
   "metadata": {},
   "outputs": [
    {
     "name": "stdout",
     "output_type": "stream",
     "text": [
      "cuda\n"
     ]
    }
   ],
   "source": [
    "device = \"cuda\" if torch.cuda.is_available() else \"cpu\"\n",
    "print(device)"
   ]
  },
  {
   "cell_type": "code",
   "execution_count": 3,
   "metadata": {},
   "outputs": [],
   "source": [
    "# PARAMS\n",
    "batch_size = 4\n",
    "test_size = 20\n",
    "row_len = 12\n",
    "days_pred_list = [5]\n",
    "num_epochs = 2\n",
    "max_src_window = 2000\n",
    "\n",
    "# model\n",
    "num_heads=3\n",
    "num_encoder_layers=4\n",
    "num_decoder_layers=4\n",
    "dropout_p=0.1\n",
    "\n",
    "# optim\n",
    "lr = 0.1\n",
    "max_grad_norm = 10000"
   ]
  },
  {
   "cell_type": "code",
   "execution_count": 4,
   "metadata": {},
   "outputs": [],
   "source": [
    "# DATALOADER\n",
    "train_loader, test_loader = create_splits(\n",
    "    batch_size=batch_size,\n",
    "    test_size=test_size,\n",
    "    reset_progress=True\n",
    ")"
   ]
  },
  {
   "cell_type": "code",
   "execution_count": 5,
   "metadata": {},
   "outputs": [
    {
     "name": "stderr",
     "output_type": "stream",
     "text": [
      "/home/kanesweet/anaconda3/envs/stonksEnv/lib/python3.11/site-packages/torch/nn/modules/transformer.py:218: UserWarning: enable_nested_tensor is True, but self.use_nested_tensor is False because num_head is odd\n",
      "  warnings.warn(f\"enable_nested_tensor is True, but self.use_nested_tensor is False because {why_not_sparsity_fast_path}\")\n"
     ]
    }
   ],
   "source": [
    "# MODEL\n",
    "model = stonks_transformer_model(\n",
    "    d_model=row_len,\n",
    "    nhead=num_heads,\n",
    "    num_encoder_layers=num_encoder_layers,\n",
    "    num_decoder_layers=num_decoder_layers,\n",
    "    dropout=dropout_p,\n",
    "    device=device\n",
    ")"
   ]
  },
  {
   "cell_type": "code",
   "execution_count": 6,
   "metadata": {},
   "outputs": [],
   "source": [
    "# for batch,lengths in tqdm(train_loader):\n",
    "#     validate_batch(batch, lengths, max_src_window, days_pred=5)"
   ]
  },
  {
   "cell_type": "code",
   "execution_count": 7,
   "metadata": {},
   "outputs": [
    {
     "data": {
      "application/vnd.jupyter.widget-view+json": {
       "model_id": "41dff14ca6264e7daa97b1a112c93ea4",
       "version_major": 2,
       "version_minor": 0
      },
      "text/plain": [
       "  0%|          | 0/94 [00:00<?, ?it/s]"
      ]
     },
     "metadata": {},
     "output_type": "display_data"
    }
   ],
   "source": [
    "j, y = train_stonks_transformer(\n",
    "    model=model,\n",
    "    learning_rate=lr,\n",
    "    max_grad_norm=max_grad_norm,\n",
    "    days_pred_list=days_pred_list,\n",
    "    train_loader=train_loader,\n",
    "    num_epochs=num_epochs,\n",
    "    max_src_window=max_src_window,\n",
    "    device=device\n",
    ")\n",
    "print(j) # 427, 46%\n",
    "\n",
    "x = np.arange(j)\n",
    "plt.scatter(x, y)\n",
    "z = np.polyfit(x, y, 1)\n",
    "p = np.poly1d(z)\n",
    "plt.plot(x, p(x))\n",
    "plt.yscale(\"log\")\n",
    "plt.show"
   ]
  },
  {
   "cell_type": "code",
   "execution_count": null,
   "metadata": {},
   "outputs": [],
   "source": []
  }
 ],
 "metadata": {
  "kernelspec": {
   "display_name": "stonksEnv",
   "language": "python",
   "name": "python3"
  },
  "language_info": {
   "codemirror_mode": {
    "name": "ipython",
    "version": 3
   },
   "file_extension": ".py",
   "mimetype": "text/x-python",
   "name": "python",
   "nbconvert_exporter": "python",
   "pygments_lexer": "ipython3",
   "version": "3.11.4"
  },
  "orig_nbformat": 4
 },
 "nbformat": 4,
 "nbformat_minor": 2
}
