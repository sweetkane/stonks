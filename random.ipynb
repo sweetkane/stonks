{
 "cells": [
  {
   "cell_type": "code",
   "execution_count": null,
   "metadata": {},
   "outputs": [],
   "source": [
    "from common.common_imports import *\n",
    "from sqlalchemy import create_engine, Table, Index, MetaData, select, distinct, exists\n",
    "from sqlalchemy.sql import and_, desc\n",
    "from data.h5py import H5PY_CONTROLLER\n",
    "from data.history import HISTORY_DATA\n",
    "from data.info import INFO_DATA"
   ]
  },
  {
   "cell_type": "code",
   "execution_count": null,
   "metadata": {},
   "outputs": [],
   "source": [
    "class DB:\n",
    "    def __init__(self) -> None:\n",
    "        self.engine = create_engine('sqlite:////home/kanesweet/kanesweet/stonks.0.1/stonks.db')\n",
    "        self.connection = self.engine.connect()\n",
    "        self.metadata = MetaData(bind=self.engine)\n",
    "        self.history_table = Table('history', self.metadata, autoload=True, autoload_with=self.engine)\n",
    "        self.attached = False\n",
    "\n",
    "db = DB()"
   ]
  },
  {
   "cell_type": "code",
   "execution_count": null,
   "metadata": {},
   "outputs": [],
   "source": [
    "h5py = H5PY_CONTROLLER()\n",
    "tickers_idx = pd.read_csv(\"data/csv/tickers_idx.csv\") #7243\n",
    "to_remove = []\n",
    "for i, row in tickers_idx.iterrows():\n",
    "    symbol = row[\"ticker\"]\n",
    "    \n",
    "    query = (select(\n",
    "                db.history_table.c.Date,\n",
    "                db.history_table.c.Open,\n",
    "                db.history_table.c.High,\n",
    "                db.history_table.c.Low,\n",
    "                db.history_table.c.Close,\n",
    "                db.history_table.c.Volume,\n",
    "            )\n",
    "            .where(db.history_table.c.Ticker == symbol)\n",
    "            .order_by(db.history_table.c.Date)\n",
    "            )\n",
    "\n",
    "    df = pd.read_sql(query, db.connection)\n",
    "        \n",
    "    # convert dates\n",
    "    df['year'] = df[\"Date\"].dt.year\n",
    "    df['month'] = df[\"Date\"].dt.month\n",
    "    df['day'] = df[\"Date\"].dt.day\n",
    "    df = df.drop(columns=[\"Date\"])\n",
    "\n",
    "    array = df.to_numpy()\n",
    "\n",
    "    # add broadcasted company info embeddings\n",
    "    # info = INFO_DATA().info_array_from_index(HISTORY_DATA().ticker_stoi(symbol))\n",
    "    # info = info.reshape(1, -1)\n",
    "    # info = np.broadcast_to(info, (array.shape[0], info.shape[1]))\n",
    "    # array = np.concatenate((array, info), axis=1)\n",
    "\n",
    "    h5py.set_dataset(symbol+\"_history\", array)"
   ]
  },
  {
   "cell_type": "code",
   "execution_count": null,
   "metadata": {},
   "outputs": [],
   "source": [
    "symbol = \"AAPL\"\n",
    "array = h5py.get_dataset(symbol+\"_history\")\n",
    "df = pd.DataFrame(array, columns=[\n",
    "    'Open', \n",
    "    'High', \n",
    "    'Low', \n",
    "    'Close',\n",
    "    'Volume', \n",
    "    'year',\n",
    "    'month',\n",
    "    'day'])\n",
    "print(df)"
   ]
  }
 ],
 "metadata": {
  "kernelspec": {
   "display_name": "stonksEnv",
   "language": "python",
   "name": "python3"
  },
  "language_info": {
   "codemirror_mode": {
    "name": "ipython",
    "version": 3
   },
   "file_extension": ".py",
   "mimetype": "text/x-python",
   "name": "python",
   "nbconvert_exporter": "python",
   "pygments_lexer": "ipython3",
   "version": "3.11.4"
  },
  "orig_nbformat": 4
 },
 "nbformat": 4,
 "nbformat_minor": 2
}
