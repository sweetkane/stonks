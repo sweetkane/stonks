{
 "cells": [
  {
   "cell_type": "code",
   "execution_count": 1,
   "metadata": {},
   "outputs": [],
   "source": [
    "from common.common_imports import *\n",
    "from common.util import *\n",
    "from data.dataloader import *\n",
    "from transformer import *\n",
    "from run_model import *"
   ]
  },
  {
   "cell_type": "code",
   "execution_count": 2,
   "metadata": {},
   "outputs": [
    {
     "name": "stdout",
     "output_type": "stream",
     "text": [
      "cuda\n"
     ]
    }
   ],
   "source": [
    "device = \"cuda\" if torch.cuda.is_available() else \"cpu\"\n",
    "print(device)\n",
    "torch.cuda.empty_cache()"
   ]
  },
  {
   "cell_type": "code",
   "execution_count": 3,
   "metadata": {},
   "outputs": [],
   "source": [
    "# RUN SETTINGS\n",
    "row_len = 8 # aka num_feats, aka d_model\n",
    "max_src_window = 1000\n",
    "test_size = 20\n",
    "num_epochs = 1\n",
    "batch_size = 1\n",
    "num_workers = 0\n",
    "days_pred_list = [5]\n",
    "\n",
    "# MODEL PARAMS\n",
    "num_heads=4\n",
    "num_encoder_layers=4\n",
    "num_decoder_layers=4\n",
    "dropout=0.1\n",
    "\n",
    "# OPTIM PARAMS\n",
    "lr = 0.4\n",
    "max_norm = 100000"
   ]
  },
  {
   "cell_type": "code",
   "execution_count": 4,
   "metadata": {},
   "outputs": [],
   "source": [
    "# DATALOADER\n",
    "train_loader, test_loader = create_splits(\n",
    "    batch_size=batch_size,\n",
    "    test_size=test_size,\n",
    "    num_workers=num_workers\n",
    ")"
   ]
  },
  {
   "cell_type": "code",
   "execution_count": 5,
   "metadata": {},
   "outputs": [],
   "source": [
    "# MODEL\n",
    "model = stonks_transformer_model(\n",
    "    d_model=row_len,\n",
    "    nhead=num_heads,\n",
    "    num_encoder_layers=num_encoder_layers,\n",
    "    num_decoder_layers=num_decoder_layers,\n",
    "    dropout=dropout,\n",
    "    device=device\n",
    ")"
   ]
  },
  {
   "cell_type": "code",
   "execution_count": 6,
   "metadata": {},
   "outputs": [],
   "source": [
    "# BATCH PROCESSORTrue\n",
    "batch_processor = BatchProcessor(max_src_window)"
   ]
  },
  {
   "cell_type": "code",
   "execution_count": 7,
   "metadata": {},
   "outputs": [
    {
     "data": {
      "application/vnd.jupyter.widget-view+json": {
       "model_id": "82a65c4d877b4e0981078f5fbbd8d293",
       "version_major": 2,
       "version_minor": 0
      },
      "text/plain": [
       "  0%|          | 0/4613 [00:00<?, ?it/s]"
      ]
     },
     "metadata": {},
     "output_type": "display_data"
    },
    {
     "name": "stdout",
     "output_type": "stream",
     "text": [
      "bad loss\n",
      "bad loss\n",
      " \n",
      "-2.001e-05 x + 5.534\n",
      "Avg Loss: 339887.9555608365\n"
     ]
    },
    {
     "data": {
      "image/png": "[encoded data removed]",
      "text/plain": [
       "<Figure size 640x480 with 1 Axes>"
      ]
     },
     "metadata": {},
     "output_type": "display_data"
    }
   ],
   "source": [
    "y = train_stonks_transformer(\n",
    "    model=model,\n",
    "    learning_rate=lr,\n",
    "    max_norm=max_norm,\n",
    "    days_pred_list=days_pred_list,\n",
    "    train_loader=train_loader,\n",
    "    num_epochs=num_epochs,\n",
    "    batch_processor=batch_processor,\n",
    "    device=device\n",
    ")\n",
    "plot_loss(y)\n",
    "print(\"Avg Loss:\", np.mean(y))\n",
    "#e1,bs1,lr0.5 = -2.001e-05x, 339887"
   ]
  },
  {
   "cell_type": "code",
   "execution_count": 8,
   "metadata": {},
   "outputs": [
    {
     "data": {
      "application/vnd.jupyter.widget-view+json": {
       "model_id": "11bedeb993894435b69c0c7a3eaacdaa",
       "version_major": 2,
       "version_minor": 0
      },
      "text/plain": [
       "  0%|          | 0/4613 [00:00<?, ?it/s]"
      ]
     },
     "metadata": {},
     "output_type": "display_data"
    },
    {
     "name": "stdout",
     "output_type": "stream",
     "text": [
      "Avg Loss: 344043.8637015782\n"
     ]
    }
   ],
   "source": [
    "y = test_stonks_transformer(\n",
    "    model=model,\n",
    "    days_pred=test_size,\n",
    "    test_loader=test_loader,\n",
    "    batch_processor=batch_processor,\n",
    "    device=device\n",
    ")\n",
    "print(\"Avg Loss:\", np.mean(y))"
   ]
  },
  {
   "cell_type": "code",
   "execution_count": null,
   "metadata": {},
   "outputs": [],
   "source": []
  }
 ],
 "metadata": {
  "kernelspec": {
   "display_name": "stonksEnv",
   "language": "python",
   "name": "python3"
  },
  "language_info": {
   "codemirror_mode": {
    "name": "ipython",
    "version": 3
   },
   "file_extension": ".py",
   "mimetype": "text/x-python",
   "name": "python",
   "nbconvert_exporter": "python",
   "pygments_lexer": "ipython3",
   "version": "3.11.4"
  },
  "orig_nbformat": 4
 },
 "nbformat": 4,
 "nbformat_minor": 2
}
