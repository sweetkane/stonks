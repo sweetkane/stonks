{
 "cells": [
  {
   "cell_type": "code",
   "execution_count": 1,
   "metadata": {},
   "outputs": [],
   "source": [
    "from common.imports import *\n",
    "from common.util import *\n",
    "from common.const import *\n",
    "from data.dataloader import *\n",
    "from model.transformer import *\n",
    "from model.run_model import *"
   ]
  },
  {
   "cell_type": "code",
   "execution_count": 2,
   "metadata": {},
   "outputs": [
    {
     "name": "stdout",
     "output_type": "stream",
     "text": [
      "cuda:0\n"
     ]
    }
   ],
   "source": [
    "device = \"cuda:0\" if torch.cuda.is_available() else \"cpu\"\n",
    "print(device)\n",
    "torch.cuda.empty_cache()"
   ]
  },
  {
   "cell_type": "code",
   "execution_count": 3,
   "metadata": {},
   "outputs": [],
   "source": [
    "# RUN SETTINGS\n",
    "load_model = False\n",
    "save_model = True\n",
    "model_name = \"best_model.pt\"\n",
    "max_src_list = [100]\n",
    "test_size = 20\n",
    "num_epochs = 2\n",
    "batch_size = 4\n",
    "num_workers = 0\n",
    "days_pred_list = [50]\n",
    "\n",
    "# OPTIM PARAMS\n",
    "lr = 0.1\n",
    "max_norm = 100000"
   ]
  },
  {
   "cell_type": "code",
   "execution_count": 4,
   "metadata": {},
   "outputs": [
    {
     "name": "stderr",
     "output_type": "stream",
     "text": [
      "/home/kanesweet/anaconda3/envs/stonksEnv/lib/python3.11/site-packages/torch/nn/modules/transformer.py:218: UserWarning: enable_nested_tensor is True, but self.use_nested_tensor is False because num_head is odd\n",
      "  warnings.warn(f\"enable_nested_tensor is True, but self.use_nested_tensor is False because {why_not_sparsity_fast_path}\")\n"
     ]
    }
   ],
   "source": [
    "# OBJECTS\n",
    "\n",
    "## DATALOADER\n",
    "train_loader, test_loader = create_splits(\n",
    "    batch_size=batch_size,\n",
    "    test_size=test_size,\n",
    "    num_workers=num_workers\n",
    ")\n",
    "\n",
    "## MODEL\n",
    "model = stonks_transformer_model(\n",
    "    d_model=D_MODEL,\n",
    "    nhead=NUM_HEADS,\n",
    "    num_encoder_layers=NUM_ENCODER_LAYERS,\n",
    "    num_decoder_layers=NUM_DECODER_LAYERS,\n",
    "    dropout=DROPOUT\n",
    ").to(device)\n",
    "if load_model:\n",
    "    checkpoint = torch.load(model_name)\n",
    "    model.load_state_dict(checkpoint['state_dict'])\n",
    "\n",
    "## BATCH PROCESSOR\n",
    "batch_processor = BatchProcessor(-1)"
   ]
  },
  {
   "cell_type": "code",
   "execution_count": null,
   "metadata": {},
   "outputs": [],
   "source": [
    "# TRAIN\n",
    "\n",
    "total_iters = len(max_src_list) * len(days_pred_list) * num_epochs * len(train_loader)\n",
    "all_losses = np.empty((0,))\n",
    "with tqdm(total=total_iters) as pbar:\n",
    "    for max_src in max_src_list:\n",
    "        batch_processor.max_src_window = max_src\n",
    "        for days_pred in days_pred_list:\n",
    "            for _ in range(num_epochs):\n",
    "                all_losses = np.concatenate((\n",
    "                    all_losses,\n",
    "                    train_stonks_transformer(\n",
    "                        model, lr, max_norm, days_pred, train_loader, \n",
    "                        batch_processor, device, pbar\n",
    "                    )\n",
    "                ))\n",
    "\n",
    "plot_loss(all_losses)\n",
    "print(\"Ending loss:\", np.mean(all_losses[-200:]))"
   ]
  },
  {
   "cell_type": "code",
   "execution_count": 6,
   "metadata": {},
   "outputs": [
    {
     "data": {
      "application/vnd.jupyter.widget-view+json": {
       "model_id": "4db2e396c5144e61a882fc904a00d14d",
       "version_major": 2,
       "version_minor": 0
      },
      "text/plain": [
       "  0%|          | 0/1154 [00:00<?, ?it/s]"
      ]
     },
     "metadata": {},
     "output_type": "display_data"
    },
    {
     "name": "stdout",
     "output_type": "stream",
     "text": [
      "Avg Loss: 2.4162297365800876\n"
     ]
    }
   ],
   "source": [
    "# TEST\n",
    "\n",
    "with tqdm(total=len(test_loader)) as pbar:\n",
    "    losses = test_stonks_transformer(\n",
    "        model, test_size, test_loader, batch_processor, device, pbar\n",
    "    )\n",
    "avg_test_loss = np.mean(losses)\n",
    "print(\"Avg Loss:\", avg_test_loss) # prev best: 0.8122367855482101"
   ]
  },
  {
   "cell_type": "code",
   "execution_count": 7,
   "metadata": {},
   "outputs": [],
   "source": [
    "# SAVE\n",
    "try:\n",
    "    checkpoint = torch.load(model_name)\n",
    "    prev_best_avg_test_loss = checkpoint['avg_test_loss']\n",
    "except:\n",
    "    prev_best_avg_test_loss = 1000000\n",
    "\n",
    "if save_model and avg_test_loss < prev_best_avg_test_loss:\n",
    "    print(\"saving model\")\n",
    "    print(\"prev best:\", prev_best_avg_test_loss)\n",
    "    print(\"new best:\", avg_test_loss)\n",
    "    torch.save(\n",
    "        {\n",
    "            'state_dict': model.state_dict(),\n",
    "            'avg_test_loss': avg_test_loss\n",
    "        }, \n",
    "        f=\"best_model.pt\"\n",
    "    )"
   ]
  }
 ],
 "metadata": {
  "kernelspec": {
   "display_name": "stonksEnv",
   "language": "python",
   "name": "python3"
  },
  "language_info": {
   "codemirror_mode": {
    "name": "ipython",
    "version": 3
   },
   "file_extension": ".py",
   "mimetype": "text/x-python",
   "name": "python",
   "nbconvert_exporter": "python",
   "pygments_lexer": "ipython3",
   "version": "3.11.4"
  },
  "orig_nbformat": 4
 },
 "nbformat": 4,
 "nbformat_minor": 2
}
