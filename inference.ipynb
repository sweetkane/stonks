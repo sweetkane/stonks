{
 "cells": [
  {
   "cell_type": "code",
   "execution_count": 1,
   "metadata": {},
   "outputs": [],
   "source": [
    "from common.imports import *\n",
    "from common.util import *\n",
    "from common.const import *\n",
    "from data.dataloader import *\n",
    "from model.transformer import *\n",
    "from model.run_model import *"
   ]
  },
  {
   "cell_type": "code",
   "execution_count": 2,
   "metadata": {},
   "outputs": [
    {
     "name": "stdout",
     "output_type": "stream",
     "text": [
      "cuda\n"
     ]
    }
   ],
   "source": [
    "device = \"cuda\" if torch.cuda.is_available() else \"cpu\"\n",
    "print(device)\n",
    "torch.cuda.empty_cache()"
   ]
  },
  {
   "cell_type": "code",
   "execution_count": 3,
   "metadata": {},
   "outputs": [],
   "source": [
    "# PARAMS\n"
   ]
  },
  {
   "cell_type": "code",
   "execution_count": 4,
   "metadata": {},
   "outputs": [
    {
     "name": "stderr",
     "output_type": "stream",
     "text": [
      "/home/kanesweet/anaconda3/envs/stonksEnv/lib/python3.11/site-packages/torch/nn/modules/transformer.py:218: UserWarning: enable_nested_tensor is True, but self.use_nested_tensor is False because num_head is odd\n",
      "  warnings.warn(f\"enable_nested_tensor is True, but self.use_nested_tensor is False because {why_not_sparsity_fast_path}\")\n"
     ]
    }
   ],
   "source": [
    "# OBJECTS\n",
    "\n",
    "## MODEL\n",
    "model = stonks_transformer_model(\n",
    "    d_model=D_MODEL,\n",
    "    nhead=NUM_HEADS,\n",
    "    num_encoder_layers=NUM_ENCODER_LAYERS,\n",
    "    num_decoder_layers=NUM_DECODER_LAYERS,\n",
    "    dropout=DROPOUT\n",
    ").to(device)\n",
    "checkpoint = torch.load(\"best_model.pt\")\n",
    "model.load_state_dict(checkpoint['state_dict'])\n",
    "\n",
    "## DATASET\n",
    "dataset=ForecasterDataset(0, None)"
   ]
  },
  {
   "cell_type": "code",
   "execution_count": 5,
   "metadata": {},
   "outputs": [],
   "source": [
    "# CHOOSE TICKER + DAYS_PRED\n",
    "ticker = \"TSLA\"\n",
    "days_pred = 5"
   ]
  },
  {
   "cell_type": "code",
   "execution_count": 6,
   "metadata": {},
   "outputs": [
    {
     "name": "stdout",
     "output_type": "stream",
     "text": [
      "src: torch.Size([1, 3260, 5]) \n",
      " tensor([[[1.9111, 2.5945, 1.8554, 2.5631, 1.3473],\n",
      "         [2.5550, 1.9065, 1.8789, 2.5873, 1.2970],\n",
      "         [2.4508, 1.0674, 2.0330, 2.6048, 1.7751],\n",
      "         [1.5050, 0.8008, 2.0737, 2.6933, 1.5160],\n",
      "         [1.0100, 1.5732, 2.3125, 2.7720, 1.9523]]], device='cuda:0') \n",
      "____________________________\n",
      "out: torch.Size([1, 1, 5]) \n",
      " tensor([[[-0.2011, -0.0826, -0.2140, -0.1784,  0.0564]]], device='cuda:0') \n",
      "____________________________\n",
      "src: torch.Size([1, 3261, 5]) \n",
      " tensor([[[ 2.5550,  1.9065,  1.8789,  2.5873,  1.2970],\n",
      "         [ 2.4508,  1.0674,  2.0330,  2.6048,  1.7751],\n",
      "         [ 1.5050,  0.8008,  2.0737,  2.6933,  1.5160],\n",
      "         [ 1.0100,  1.5732,  2.3125,  2.7720,  1.9523],\n",
      "         [-1.0277,  0.4801,  0.2823,  0.6897,  0.7309]]], device='cuda:0',\n",
      "       grad_fn=<SliceBackward0>) \n",
      "____________________________\n",
      "out: torch.Size([1, 1, 5]) \n",
      " tensor([[[-0.2011, -0.0826, -0.2140, -0.1784,  0.0564]]], device='cuda:0') \n",
      "____________________________\n",
      "src: torch.Size([1, 3262, 5]) \n",
      " tensor([[[ 2.4508,  1.0674,  2.0330,  2.6048,  1.7751],\n",
      "         [ 1.5050,  0.8008,  2.0737,  2.6933,  1.5160],\n",
      "         [ 1.0100,  1.5732,  2.3125,  2.7720,  1.9523],\n",
      "         [-1.0277,  0.4801,  0.2823,  0.6897,  0.7309],\n",
      "         [-0.1742,  0.9171,  0.3220,  0.6657,  0.7325]]], device='cuda:0',\n",
      "       grad_fn=<SliceBackward0>) \n",
      "____________________________\n",
      "out: torch.Size([1, 1, 5]) \n",
      " tensor([[[-0.2011, -0.0826, -0.2140, -0.1784,  0.0564]]], device='cuda:0') \n",
      "____________________________\n",
      "src: torch.Size([1, 3263, 5]) \n",
      " tensor([[[ 1.5050,  0.8008,  2.0737,  2.6933,  1.5160],\n",
      "         [ 1.0100,  1.5732,  2.3125,  2.7720,  1.9523],\n",
      "         [-1.0277,  0.4801,  0.2823,  0.6897,  0.7309],\n",
      "         [-0.1742,  0.9171,  0.3220,  0.6657,  0.7325],\n",
      "         [ 0.6546,  0.4350,  0.3606,  0.6400,  0.7341]]], device='cuda:0',\n",
      "       grad_fn=<SliceBackward0>) \n",
      "____________________________\n",
      "out: torch.Size([1, 1, 5]) \n",
      " tensor([[[-0.2011, -0.0826, -0.2140, -0.1784,  0.0564]]], device='cuda:0') \n",
      "____________________________\n",
      "src: torch.Size([1, 3264, 5]) \n",
      " tensor([[[ 1.0100,  1.5732,  2.3125,  2.7720,  1.9523],\n",
      "         [-1.0277,  0.4801,  0.2823,  0.6897,  0.7309],\n",
      "         [-0.1742,  0.9171,  0.3220,  0.6657,  0.7325],\n",
      "         [ 0.6546,  0.4350,  0.3606,  0.6400,  0.7341],\n",
      "         [ 0.6967, -0.5229,  0.3980,  0.6124,  0.7357]]], device='cuda:0',\n",
      "       grad_fn=<SliceBackward0>) \n",
      "____________________________\n",
      "out: torch.Size([1, 1, 5]) \n",
      " tensor([[[-0.2011, -0.0826, -0.2140, -0.1784,  0.0564]]], device='cuda:0') \n",
      "____________________________\n",
      "ground truth:\n",
      "          Open        High         Low       Close       Volume\n",
      "0  217.800003  221.289993  214.520004  217.610001  151143104.0\n",
      "1  216.139999  221.910004  212.529999  221.309998  146911600.0\n",
      "2  228.000000  230.830002  223.199997  224.570007  185710800.0\n",
      "3  224.220001  235.229996  223.009995  234.860001  164489696.0\n",
      "4  249.070007  252.419998  242.020004  244.399994  199882304.0\n",
      "====================================================================\n",
      "inference:\n",
      "         Open       High        Low      Close       Volume\n",
      "0  43.423965  54.858654  42.171646  45.606339  100301344.0\n",
      "1  43.423965  54.858654  42.171646  45.606339  100301344.0\n",
      "2  43.423965  54.858654  42.171646  45.606339  100301344.0\n",
      "3  43.423965  54.858654  42.171646  45.606339  100301344.0\n",
      "4  43.423965  54.858654  42.171646  45.606339  100301344.0\n"
     ]
    }
   ],
   "source": [
    "\n",
    "idx = HISTORY_DATA().ticker_stoi(ticker)\n",
    "src = dataset[idx].unsqueeze(0)[:, :-days_pred, :]\n",
    "inference = inference_stonks_transformer(model, days_pred, src, device)\n",
    "\n",
    "ground_truth = HISTORY_DATA().array_to_dataframe(array=src[0,-days_pred:,:5].numpy())\n",
    "inference = HISTORY_DATA().array_to_dataframe(array=inference[0].numpy())\n",
    "\n",
    "print(\"ground truth:\\n\",ground_truth)\n",
    "print(\"====================================================================\")\n",
    "print(\"inference:\\n\",inference)\n",
    "\n"
   ]
  },
  {
   "cell_type": "code",
   "execution_count": 7,
   "metadata": {},
   "outputs": [],
   "source": [
    "# TODO add some helpful data analysis and vizualization methods"
   ]
  }
 ],
 "metadata": {
  "kernelspec": {
   "display_name": "stonksEnv",
   "language": "python",
   "name": "python3"
  },
  "language_info": {
   "codemirror_mode": {
    "name": "ipython",
    "version": 3
   },
   "file_extension": ".py",
   "mimetype": "text/x-python",
   "name": "python",
   "nbconvert_exporter": "python",
   "pygments_lexer": "ipython3",
   "version": "3.11.4"
  },
  "orig_nbformat": 4
 },
 "nbformat": 4,
 "nbformat_minor": 2
}
