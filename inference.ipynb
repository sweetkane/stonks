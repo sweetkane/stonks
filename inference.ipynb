{
 "cells": [
  {
   "cell_type": "code",
   "execution_count": 1,
   "metadata": {},
   "outputs": [],
   "source": [
    "from common.imports import *\n",
    "from common.util import *\n",
    "from common.const import *\n",
    "from data.dataloader import *\n",
    "from model.transformer import *\n",
    "from model.run_model import *"
   ]
  },
  {
   "cell_type": "code",
   "execution_count": 2,
   "metadata": {},
   "outputs": [
    {
     "name": "stdout",
     "output_type": "stream",
     "text": [
      "cuda\n"
     ]
    }
   ],
   "source": [
    "device = \"cuda\" if torch.cuda.is_available() else \"cpu\"\n",
    "print(device)\n",
    "torch.cuda.empty_cache()"
   ]
  },
  {
   "cell_type": "code",
   "execution_count": 3,
   "metadata": {},
   "outputs": [],
   "source": [
    "# PARAMS\n"
   ]
  },
  {
   "cell_type": "code",
   "execution_count": 4,
   "metadata": {},
   "outputs": [],
   "source": [
    "# OBJECTS\n",
    "\n",
    "## MODEL\n",
    "model = stonks_transformer_model(\n",
    "    d_model=D_MODEL,\n",
    "    nhead=NUM_HEADS,\n",
    "    num_encoder_layers=NUM_ENCODER_LAYERS,\n",
    "    num_decoder_layers=NUM_DECODER_LAYERS,\n",
    "    dropout=DROPOUT\n",
    ").to(device)\n",
    "checkpoint = torch.load(\"best_model.pt\")\n",
    "model.load_state_dict(checkpoint['state_dict'])\n",
    "\n",
    "## DATASET\n",
    "dataset=ForecasterDataset(0, None)"
   ]
  },
  {
   "cell_type": "code",
   "execution_count": 5,
   "metadata": {},
   "outputs": [],
   "source": [
    "# CHOOSE TICKER + DAYS_PRED\n",
    "ticker = \"TSLA\"\n",
    "days_pred = 5"
   ]
  },
  {
   "cell_type": "code",
   "execution_count": 6,
   "metadata": {},
   "outputs": [
    {
     "name": "stdout",
     "output_type": "stream",
     "text": [
      "src: tensor([[[-6.3795e-01, -6.3380e-01, -6.3896e-01,  ...,  2.0100e+03,\n",
      "           6.0000e+00,  2.9000e+01],\n",
      "         [-6.3326e-01, -6.3006e-01, -6.3498e-01,  ...,  2.0100e+03,\n",
      "           6.0000e+00,  3.0000e+01],\n",
      "         [-6.3380e-01, -6.3317e-01, -6.3707e-01,  ...,  2.0100e+03,\n",
      "           7.0000e+00,  1.0000e+00],\n",
      "         ...,\n",
      "         [ 1.7118e+00,  1.7411e+00,  1.6620e+00,  ...,  2.0230e+03,\n",
      "           6.0000e+00,  7.0000e+00],\n",
      "         [ 1.6726e+00,  1.7867e+00,  1.6600e+00,  ...,  2.0230e+03,\n",
      "           6.0000e+00,  8.0000e+00],\n",
      "         [ 1.9301e+00,  1.9648e+00,  1.8570e+00,  ...,  2.0230e+03,\n",
      "           6.0000e+00,  9.0000e+00]]], device='cuda:0') \n",
      "________________________\n",
      "tgt: torch.Size([1, 1, 8]) \n",
      " tensor([[-0.9201, -0.3916, -0.7350,  0.6781,  0.9223,  0.3864, -0.1171, -0.9931]],\n",
      "       device='cuda:0') \n",
      "____________________________\n",
      "src: torch.Size([1, 3260, 8]) \n",
      " tensor([[-0.9201, -0.3916, -0.7350,  0.6781,  0.9223,  0.3864, -0.1171, -0.9931]],\n",
      "       device='cuda:0') \n",
      "____________________________\n",
      "out: torch.Size([1, 1, 8]) \n",
      " tensor([[[ 0.0465, -0.2755, -0.3016,  0.9322, -0.5622, -0.8264,  0.8749,\n",
      "           0.5382]]], device='cuda:0') \n",
      "____________________________\n",
      "tgt: torch.Size([1, 2, 8]) \n",
      " tensor([[-0.8267,  0.5627, -0.6636,  0.7481,  0.9261,  0.3772, -0.1181, -0.9930]],\n",
      "       device='cuda:0') \n",
      "____________________________\n",
      "src: torch.Size([1, 3260, 8]) \n",
      " tensor([[-0.9201, -0.3916, -0.7350,  0.6781,  0.9223,  0.3864, -0.1171, -0.9931]],\n",
      "       device='cuda:0') \n",
      "____________________________\n",
      "out: torch.Size([1, 2, 8]) \n",
      " tensor([[[ 0.0465, -0.2755, -0.3016,  0.9322, -0.5622, -0.8264,  0.8749,\n",
      "           0.5382],\n",
      "         [ 0.0465, -0.2755, -0.3016,  0.9322, -0.5622, -0.8264,  0.8749,\n",
      "           0.5382]]], device='cuda:0') \n",
      "____________________________\n",
      "tgt: torch.Size([1, 3, 8]) \n",
      " tensor([[ 0.0268,  0.9996, -0.5856,  0.8106,  0.9299,  0.3679, -0.1191, -0.9929]],\n",
      "       device='cuda:0') \n",
      "____________________________\n",
      "src: torch.Size([1, 3260, 8]) \n",
      " tensor([[-0.9201, -0.3916, -0.7350,  0.6781,  0.9223,  0.3864, -0.1171, -0.9931]],\n",
      "       device='cuda:0') \n",
      "____________________________\n",
      "out: torch.Size([1, 3, 8]) \n",
      " tensor([[[ 0.0465, -0.2755, -0.3016,  0.9322, -0.5622, -0.8264,  0.8749,\n",
      "           0.5382],\n",
      "         [ 0.0465, -0.2755, -0.3016,  0.9322, -0.5622, -0.8264,  0.8749,\n",
      "           0.5382],\n",
      "         [ 0.0465, -0.2755, -0.3016,  0.9322, -0.5622, -0.8264,  0.8749,\n",
      "           0.5382]]], device='cuda:0') \n",
      "____________________________\n",
      "tgt: torch.Size([1, 4, 8]) \n",
      " tensor([[ 0.8557,  0.5175, -0.5018,  0.8650,  0.9335,  0.3586, -0.1201, -0.9928]],\n",
      "       device='cuda:0') \n",
      "____________________________\n",
      "src: torch.Size([1, 3260, 8]) \n",
      " tensor([[-0.9201, -0.3916, -0.7350,  0.6781,  0.9223,  0.3864, -0.1171, -0.9931]],\n",
      "       device='cuda:0') \n",
      "____________________________\n",
      "out: torch.Size([1, 4, 8]) \n",
      " tensor([[[ 0.0465, -0.2755, -0.3016,  0.9322, -0.5622, -0.8264,  0.8749,\n",
      "           0.5382],\n",
      "         [ 0.0465, -0.2755, -0.3016,  0.9322, -0.5622, -0.8264,  0.8749,\n",
      "           0.5382],\n",
      "         [ 0.0465, -0.2755, -0.3016,  0.9322, -0.5622, -0.8264,  0.8749,\n",
      "           0.5382],\n",
      "         [ 0.0465, -0.2755, -0.3016,  0.9322, -0.5622, -0.8264,  0.8749,\n",
      "           0.5382]]], device='cuda:0') \n",
      "____________________________\n",
      "tgt: torch.Size([1, 5, 8]) \n",
      " tensor([[ 0.8978, -0.4404, -0.4129,  0.9108,  0.9370,  0.3492, -0.1211, -0.9926]],\n",
      "       device='cuda:0') \n",
      "____________________________\n",
      "src: torch.Size([1, 3260, 8]) \n",
      " tensor([[-0.9201, -0.3916, -0.7350,  0.6781,  0.9223,  0.3864, -0.1171, -0.9931]],\n",
      "       device='cuda:0') \n",
      "____________________________\n",
      "out: torch.Size([1, 5, 8]) \n",
      " tensor([[[ 0.0465, -0.2755, -0.3016,  0.9322, -0.5622, -0.8264,  0.8749,\n",
      "           0.5382],\n",
      "         [ 0.0465, -0.2755, -0.3016,  0.9322, -0.5622, -0.8264,  0.8749,\n",
      "           0.5382],\n",
      "         [ 0.0465, -0.2755, -0.3016,  0.9322, -0.5622, -0.8264,  0.8749,\n",
      "           0.5382],\n",
      "         [ 0.0465, -0.2755, -0.3016,  0.9322, -0.5622, -0.8264,  0.8749,\n",
      "           0.5382],\n",
      "         [ 0.0465, -0.2755, -0.3016,  0.9322, -0.5622, -0.8264,  0.8749,\n",
      "           0.5382]]], device='cuda:0') \n",
      "____________________________\n",
      "tensor([[[ 0.0465, -0.2755, -0.3016,  0.9322, -0.5622],\n",
      "         [ 0.0465, -0.2755, -0.3016,  0.9322, -0.5622],\n",
      "         [ 0.0465, -0.2755, -0.3016,  0.9322, -0.5622],\n",
      "         [ 0.0465, -0.2755, -0.3016,  0.9322, -0.5622],\n",
      "         [ 0.0465, -0.2755, -0.3016,  0.9322, -0.5622]]], device='cuda:0',\n",
      "       grad_fn=<SliceBackward0>)\n",
      "torch.Size([1, 5, 5])\n",
      "         Open        High         Low       Close       Volume\n",
      "0  217.800003  221.289993  214.520004  217.610001  151143104.0\n",
      "1  216.139999  221.910004  212.529999  221.309998  146911600.0\n",
      "2  228.000000  230.830002  223.199997  224.570007  185710800.0\n",
      "3  224.220001  235.229996  223.009995  234.860001  164489696.0\n",
      "4  249.070007  252.419998  242.020004  244.399994  199882304.0\n",
      "        Open       High       Low       Close      Volume\n",
      "0  67.316467  36.239155  33.72327  152.773651  49930012.0\n",
      "1  67.316467  36.239155  33.72327  152.773651  49930012.0\n",
      "2  67.316467  36.239155  33.72327  152.773651  49930012.0\n",
      "3  67.316467  36.239155  33.72327  152.773651  49930012.0\n",
      "4  67.316467  36.239155  33.72327  152.773651  49930012.0\n"
     ]
    }
   ],
   "source": [
    "\n",
    "idx = HISTORY_DATA().ticker_stoi(ticker)\n",
    "src = dataset[idx].unsqueeze(0)[:, :-days_pred, :]\n",
    "inference = inference_stonks_transformer(model, days_pred, src, device)\n",
    "print(inference.shape)\n",
    "ground_truth = HISTORY_DATA().array_to_dataframe(array=src[0,-days_pred:,:5].numpy())\n",
    "inference = HISTORY_DATA().array_to_dataframe(array=inference[0].numpy())\n",
    "\n",
    "print(ground_truth)\n",
    "print(inference)\n",
    "# out [ 0.0465, -0.2755, -0.3016,  0.9322, -0.5622, -0.8264,  0.8749, 0.5382]\n"
   ]
  },
  {
   "cell_type": "code",
   "execution_count": 7,
   "metadata": {},
   "outputs": [],
   "source": [
    "# TODO add some helpful data analysis and vizualization methods"
   ]
  }
 ],
 "metadata": {
  "kernelspec": {
   "display_name": "stonksEnv",
   "language": "python",
   "name": "python3"
  },
  "language_info": {
   "codemirror_mode": {
    "name": "ipython",
    "version": 3
   },
   "file_extension": ".py",
   "mimetype": "text/x-python",
   "name": "python",
   "nbconvert_exporter": "python",
   "pygments_lexer": "ipython3",
   "version": "3.11.4"
  },
  "orig_nbformat": 4
 },
 "nbformat": 4,
 "nbformat_minor": 2
}
