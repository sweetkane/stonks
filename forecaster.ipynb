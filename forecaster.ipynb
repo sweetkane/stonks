{
 "cells": [
  {
   "cell_type": "code",
   "execution_count": 1,
   "metadata": {},
   "outputs": [],
   "source": [
    "from common.common_imports import *\n",
    "from common.util import *\n",
    "from data.dataloader import *\n",
    "from transformer import *\n",
    "from run_model import *"
   ]
  },
  {
   "cell_type": "code",
   "execution_count": 2,
   "metadata": {},
   "outputs": [
    {
     "name": "stdout",
     "output_type": "stream",
     "text": [
      "cuda\n"
     ]
    }
   ],
   "source": [
    "device = \"cuda\" if torch.cuda.is_available() else \"cpu\"\n",
    "print(device)\n",
    "torch.cuda.empty_cache()"
   ]
  },
  {
   "cell_type": "code",
   "execution_count": 3,
   "metadata": {},
   "outputs": [],
   "source": [
    "# RUN SETTINGS\n",
    "row_len = 8 # aka num_feats, aka d_model\n",
    "max_src_window = 1000\n",
    "test_size = 20\n",
    "num_epochs = 1\n",
    "batch_size = 1\n",
    "num_workers = 0\n",
    "days_pred_list = [5]\n",
    "\n",
    "# MODEL PARAMS\n",
    "num_heads=4\n",
    "num_encoder_layers=4\n",
    "num_decoder_layers=4\n",
    "dropout=0.1\n",
    "\n",
    "# OPTIM PARAMS\n",
    "lr = 0.4\n",
    "max_norm = 100000"
   ]
  },
  {
   "cell_type": "code",
   "execution_count": 4,
   "metadata": {},
   "outputs": [],
   "source": [
    "# DATALOADER\n",
    "train_loader, test_loader = create_splits(\n",
    "    batch_size=batch_size,\n",
    "    test_size=test_size,\n",
    "    num_workers=num_workers\n",
    ")"
   ]
  },
  {
   "cell_type": "code",
   "execution_count": 5,
   "metadata": {},
   "outputs": [],
   "source": [
    "# MODEL\n",
    "model = stonks_transformer_model(\n",
    "    d_model=row_len,\n",
    "    nhead=num_heads,\n",
    "    num_encoder_layers=num_encoder_layers,\n",
    "    num_decoder_layers=num_decoder_layers,\n",
    "    dropout=dropout\n",
    ").to(device)"
   ]
  },
  {
   "cell_type": "code",
   "execution_count": 6,
   "metadata": {},
   "outputs": [],
   "source": [
    "# BATCH PROCESSORTrue\n",
    "batch_processor = BatchProcessor(max_src_window)"
   ]
  },
  {
   "cell_type": "code",
   "execution_count": 7,
   "metadata": {},
   "outputs": [
    {
     "data": {
      "application/vnd.jupyter.widget-view+json": {
       "model_id": "cb8e69432bda4a8ea23728c6e7f9027d",
       "version_major": 2,
       "version_minor": 0
      },
      "text/plain": [
       "  0%|          | 0/4613 [00:00<?, ?it/s]"
      ]
     },
     "metadata": {},
     "output_type": "display_data"
    },
    {
     "name": "stdout",
     "output_type": "stream",
     "text": [
      " \n",
      "-4.159e-05 x + 0.1324\n",
      "Avg Loss: 0.12489341209746069\n"
     ]
    },
    {
     "data": {
      "image/png": "[encoded data removed]",
      "text/plain": [
       "<Figure size 640x480 with 1 Axes>"
      ]
     },
     "metadata": {},
     "output_type": "display_data"
    }
   ],
   "source": [
    "y = train_stonks_transformer(\n",
    "    model=model,\n",
    "    learning_rate=lr,\n",
    "    max_norm=max_norm,\n",
    "    days_pred_list=days_pred_list,\n",
    "    train_loader=train_loader,\n",
    "    num_epochs=num_epochs,\n",
    "    batch_processor=batch_processor,\n",
    "    device=device\n",
    ")\n",
    "plot_loss(y)\n",
    "print(\"Avg Loss:\", np.mean(y))\n",
    "#e1,bs1,lr0.4,dp[5] - (-4.159e-05 x), 0.1248"
   ]
  },
  {
   "cell_type": "code",
   "execution_count": 8,
   "metadata": {},
   "outputs": [
    {
     "data": {
      "application/vnd.jupyter.widget-view+json": {
       "model_id": "8428799b1b834d93b3f907388bee35a3",
       "version_major": 2,
       "version_minor": 0
      },
      "text/plain": [
       "  0%|          | 0/4613 [00:00<?, ?it/s]"
      ]
     },
     "metadata": {},
     "output_type": "display_data"
    },
    {
     "ename": "RuntimeError",
     "evalue": "shape '[1, 20, 8]' is invalid for input of size 0",
     "output_type": "error",
     "traceback": [
      "\u001b[0;31m---------------------------------------------------------------------------\u001b[0m",
      "\u001b[0;31mRuntimeError\u001b[0m                              Traceback (most recent call last)",
      "Cell \u001b[0;32mIn[8], line 1\u001b[0m\n\u001b[0;32m----> 1\u001b[0m y \u001b[39m=\u001b[39m test_stonks_transformer(\n\u001b[1;32m      2\u001b[0m     model\u001b[39m=\u001b[39;49mmodel,\n\u001b[1;32m      3\u001b[0m     days_pred\u001b[39m=\u001b[39;49mtest_size,\n\u001b[1;32m      4\u001b[0m     test_loader\u001b[39m=\u001b[39;49mtest_loader,\n\u001b[1;32m      5\u001b[0m     batch_processor\u001b[39m=\u001b[39;49mbatch_processor,\n\u001b[1;32m      6\u001b[0m     device\u001b[39m=\u001b[39;49mdevice\n\u001b[1;32m      7\u001b[0m )\n\u001b[1;32m      8\u001b[0m \u001b[39mprint\u001b[39m(\u001b[39m\"\u001b[39m\u001b[39mAvg Loss:\u001b[39m\u001b[39m\"\u001b[39m, np\u001b[39m.\u001b[39mmean(y))\n",
      "File \u001b[0;32m~/kanesweet/stonks.0.2/run_model.py:74\u001b[0m, in \u001b[0;36mtest_stonks_transformer\u001b[0;34m(model, days_pred, test_loader, batch_processor, device)\u001b[0m\n\u001b[1;32m     71\u001b[0m pbar\u001b[39m.\u001b[39mupdate(\u001b[39m1\u001b[39m)\n\u001b[1;32m     73\u001b[0m batch_processor\u001b[39m.\u001b[39mstandardize(batch, lengths)\n\u001b[0;32m---> 74\u001b[0m data \u001b[39m=\u001b[39m batch_processor\u001b[39m.\u001b[39;49mget_inputs(batch, lengths, days_pred)\n\u001b[1;32m     75\u001b[0m src, src_padding_mask, tgt, exp \u001b[39m=\u001b[39m \u001b[39mtuple\u001b[39m(tensor\u001b[39m.\u001b[39mto(device) \u001b[39mfor\u001b[39;00m tensor \u001b[39min\u001b[39;00m data)\n\u001b[1;32m     76\u001b[0m out \u001b[39m=\u001b[39m model(src\u001b[39m=\u001b[39msrc, src_key_padding_mask\u001b[39m=\u001b[39msrc_padding_mask, tgt\u001b[39m=\u001b[39mtgt, tgt_mask\u001b[39m=\u001b[39mtgt_mask)\n",
      "File \u001b[0;32m~/kanesweet/stonks.0.2/data/dataloader.py:65\u001b[0m, in \u001b[0;36mBatchProcessor.get_inputs\u001b[0;34m(self, batch, lengths, days_pred)\u001b[0m\n\u001b[1;32m     63\u001b[0m exp_mask \u001b[39m=\u001b[39m (range_tensor_2 \u001b[39m>\u001b[39m\u001b[39m=\u001b[39m src_len_expanded) \u001b[39m&\u001b[39m (range_tensor_2 \u001b[39m<\u001b[39m (src_len_expanded \u001b[39m+\u001b[39m days_pred))\n\u001b[1;32m     64\u001b[0m \u001b[39m# Mask tgt and exp\u001b[39;00m\n\u001b[0;32m---> 65\u001b[0m tgt \u001b[39m=\u001b[39m batch[tgt_mask]\u001b[39m.\u001b[39;49mreshape(tgt\u001b[39m.\u001b[39;49mshape)\n\u001b[1;32m     66\u001b[0m exp \u001b[39m=\u001b[39m batch[exp_mask]\u001b[39m.\u001b[39mreshape(exp\u001b[39m.\u001b[39mshape)\n\u001b[1;32m     68\u001b[0m \u001b[39mreturn\u001b[39;00m src, src_padding_mask, tgt, exp\n",
      "\u001b[0;31mRuntimeError\u001b[0m: shape '[1, 20, 8]' is invalid for input of size 0"
     ]
    }
   ],
   "source": [
    "y = test_stonks_transformer(\n",
    "    model=model,\n",
    "    days_pred=test_size,\n",
    "    test_loader=test_loader,\n",
    "    batch_processor=batch_processor,\n",
    "    device=device\n",
    ")\n",
    "print(\"Avg Loss:\", np.mean(y))"
   ]
  },
  {
   "cell_type": "code",
   "execution_count": null,
   "metadata": {},
   "outputs": [],
   "source": [
    "eval_loader = DataLoader(\n",
    "        dataset=ForecasterDataset(0, -1),\n",
    "        batch_size=1,\n",
    "        shuffle=False,\n",
    "        collate_fn=collate,\n",
    "        num_workers=0\n",
    "    )"
   ]
  },
  {
   "cell_type": "code",
   "execution_count": null,
   "metadata": {},
   "outputs": [],
   "source": [
    "ticker = \"AAPL\"\n",
    "idx = HISTORY_DATA().ticker_stoi(ticker)\n",
    "src = eval_loader[idx]\n",
    "inference = inference_stonks_transformer(\n",
    "    model=model,\n",
    "    days_pred=test_size,\n",
    "    src=src,\n",
    "    batch_processor=batch_processor,\n",
    "    device=device\n",
    ")\n",
    "for i in range(inference.shape[1]):\n",
    "    print(\"gt:\", src[:,-1-inference.shape[1]+i,:])\n",
    "    print(\"if:\", inference[:,i,:])"
   ]
  }
 ],
 "metadata": {
  "kernelspec": {
   "display_name": "stonksEnv",
   "language": "python",
   "name": "python3"
  },
  "language_info": {
   "codemirror_mode": {
    "name": "ipython",
    "version": 3
   },
   "file_extension": ".py",
   "mimetype": "text/x-python",
   "name": "python",
   "nbconvert_exporter": "python",
   "pygments_lexer": "ipython3",
   "version": "3.11.4"
  },
  "orig_nbformat": 4
 },
 "nbformat": 4,
 "nbformat_minor": 2
}
