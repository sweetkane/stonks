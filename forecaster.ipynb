{
 "cells": [
  {
   "cell_type": "code",
   "execution_count": null,
   "metadata": {},
   "outputs": [],
   "source": [
    "from common.common_imports import *\n",
    "from common.util import *\n",
    "from data.dataloader import *\n",
    "from transformer import *\n",
    "from run_model import *"
   ]
  },
  {
   "cell_type": "code",
   "execution_count": null,
   "metadata": {},
   "outputs": [],
   "source": [
    "device = \"cuda\" if torch.cuda.is_available() else \"cpu\"\n",
    "print(device)\n",
    "torch.cuda.empty_cache()"
   ]
  },
  {
   "cell_type": "code",
   "execution_count": null,
   "metadata": {},
   "outputs": [],
   "source": [
    "# RUN SETTINGS\n",
    "row_len = 8 # aka num_feats, aka d_model\n",
    "max_src_window = 5883\n",
    "test_size = 20\n",
    "num_epochs = 2\n",
    "batch_size = 2\n",
    "num_workers = 0\n",
    "days_pred_list = [5]\n",
    "should_validate_batch = False\n",
    "\n",
    "# MODEL PARAMS\n",
    "num_heads=3\n",
    "num_encoder_layers=4\n",
    "num_decoder_layers=4\n",
    "dropout=0.1\n",
    "\n",
    "# OPTIM PARAMS\n",
    "lr = 0.1\n",
    "max_norm = 10000"
   ]
  },
  {
   "cell_type": "code",
   "execution_count": null,
   "metadata": {},
   "outputs": [],
   "source": [
    "# DATALOADER\n",
    "train_loader, test_loader = create_splits(\n",
    "    batch_size=batch_size,\n",
    "    test_size=test_size,\n",
    "    num_workers=num_workers\n",
    ")"
   ]
  },
  {
   "cell_type": "code",
   "execution_count": null,
   "metadata": {},
   "outputs": [],
   "source": [
    "# MODEL\n",
    "model = stonks_transformer_model(\n",
    "    d_model=row_len,\n",
    "    nhead=num_heads,\n",
    "    num_encoder_layers=num_encoder_layers,\n",
    "    num_decoder_layers=num_decoder_layers,\n",
    "    dropout=dropout,\n",
    "    device=device\n",
    ")"
   ]
  },
  {
   "cell_type": "code",
   "execution_count": null,
   "metadata": {},
   "outputs": [],
   "source": [
    "# BATCH PROCESSOR\n",
    "batch_processor = BatchProcessor(max_src_window, should_validate_batch=True)"
   ]
  },
  {
   "cell_type": "code",
   "execution_count": null,
   "metadata": {},
   "outputs": [],
   "source": [
    "y = train_stonks_transformer(\n",
    "    model=model,\n",
    "    learning_rate=lr,\n",
    "    max_norm=max_norm,\n",
    "    days_pred_list=days_pred_list,\n",
    "    train_loader=test_loader,\n",
    "    num_epochs=num_epochs,\n",
    "    batch_processor=batch_processor,\n",
    "    device=device\n",
    ")\n",
    "plot_loss(y)"
   ]
  },
  {
   "cell_type": "code",
   "execution_count": null,
   "metadata": {},
   "outputs": [],
   "source": [
    "y = test_stonks_transformer(\n",
    "    model=model,\n",
    "    days_pred=days_pred_list[0],\n",
    "    test_loader=test_loader,\n",
    "    device=device,\n",
    "    batch_processor=batch_processor,\n",
    "    device=device\n",
    ")\n",
    "plot_loss(y)\n",
    "print(\"Avg Loss:\", np.mean(y))"
   ]
  }
 ],
 "metadata": {
  "kernelspec": {
   "display_name": "stonksEnv",
   "language": "python",
   "name": "python3"
  },
  "language_info": {
   "codemirror_mode": {
    "name": "ipython",
    "version": 3
   },
   "file_extension": ".py",
   "mimetype": "text/x-python",
   "name": "python",
   "nbconvert_exporter": "python",
   "pygments_lexer": "ipython3",
   "version": "3.11.4"
  },
  "orig_nbformat": 4
 },
 "nbformat": 4,
 "nbformat_minor": 2
}
